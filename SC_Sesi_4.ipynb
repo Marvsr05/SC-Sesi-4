{
  "nbformat": 4,
  "nbformat_minor": 0,
  "metadata": {
    "colab": {
      "provenance": [],
      "authorship_tag": "ABX9TyMkBsodtsZX8dmUVTsgWRIL",
      "include_colab_link": true
    },
    "kernelspec": {
      "name": "python3",
      "display_name": "Python 3"
    },
    "language_info": {
      "name": "python"
    }
  },
  "cells": [
    {
      "cell_type": "markdown",
      "metadata": {
        "id": "view-in-github",
        "colab_type": "text"
      },
      "source": [
        "<a href=\"https://colab.research.google.com/github/Marvsr05/SC-Sesi-4/blob/main/SC_Sesi_4.ipynb\" target=\"_parent\"><img src=\"https://colab.research.google.com/assets/colab-badge.svg\" alt=\"Open In Colab\"/></a>"
      ]
    },
    {
      "cell_type": "code",
      "execution_count": null,
      "metadata": {
        "id": "fmFLic0fJkUU"
      },
      "outputs": [],
      "source": [
        "import numpy as np\n",
        "\n",
        "def my_bisection(f, a, b, tol):\n",
        "  if np.sign(f(a)) == np.sign(f(b)):\n",
        "    raise Exception(\n",
        "      \"The scalars a and b do not bound a root\")\n",
        "\n",
        "  m = (a + b)/2\n",
        "\n",
        "  if np.abs(f(m)) < tol:\n",
        "    return m\n",
        "  elif np.sign(f(a)) == np.sign(f(m)):\n",
        "    return my_bisection(f, m, b, tol)\n",
        "  elif np.sign(f(b)) == np.sign(f(m)):\n",
        "    return my_bisection(f, a, m, tol)"
      ]
    },
    {
      "cell_type": "code",
      "source": [
        "f = lambda x: x**2 - 2\n",
        "r1 = my_bisection(f, 0, 2, 0.1)\n",
        "print (\"r1 =\", r1)\n",
        "r01 = my_bisection(f, 0, 2, 0.01)\n",
        "print (\"r01 =\", r01)\n",
        "\n",
        "print (\"f(r1) =\", f(r1))\n",
        "print (\"f(r01) =\", f(r01))"
      ],
      "metadata": {
        "colab": {
          "base_uri": "https://localhost:8080/"
        },
        "id": "CExY7jjFK826",
        "outputId": "92782d0e-4a6c-4a5b-88fd-8d83d0a2bbd1"
      },
      "execution_count": null,
      "outputs": [
        {
          "output_type": "stream",
          "name": "stdout",
          "text": [
            "r1 = 1.4375\n",
            "r01 = 1.4140625\n",
            "f(r1) = 0.06640625\n",
            "f(r01) = -0.00042724609375\n"
          ]
        }
      ]
    },
    {
      "cell_type": "code",
      "source": [
        "import numpy as np\n",
        "f = lambda x: x**2 - 2\n",
        "f_prime= lambda x: 2*x\n",
        "newton_raphson = 1.4 - (f(1.4)) / (f_prime(1.4))\n",
        "\n",
        "print(\"newton_raphson =\", newton_raphson)\n",
        "print(\"sqrt(2) =\", np.sqrt(2))"
      ],
      "metadata": {
        "colab": {
          "base_uri": "https://localhost:8080/"
        },
        "id": "7coNwMuPK8Vi",
        "outputId": "4ea45e5a-776a-44c6-b0bb-aa63cbe2663c"
      },
      "execution_count": null,
      "outputs": [
        {
          "output_type": "stream",
          "name": "stdout",
          "text": [
            "newton_raphson = 1.4142857142857144\n",
            "sqrt(2) = 1.4142135623730951\n"
          ]
        }
      ]
    },
    {
      "cell_type": "code",
      "source": [
        "def my_newton(f, df, x0, tol):\n",
        "  if abs(f(x0)) < tol:\n",
        "    return x0\n",
        "  else:\n",
        "    return my_newton(f, f_prime, x0 - f(x0)/f_prime(x0), tol)\n",
        "\n",
        "print(my_newton(f, f_prime, 10, 0.01))"
      ],
      "metadata": {
        "colab": {
          "base_uri": "https://localhost:8080/"
        },
        "id": "uRFjt4O3KbCK",
        "outputId": "83bab661-1853-4e9f-e8c7-681aaf8c7b32"
      },
      "execution_count": null,
      "outputs": [
        {
          "output_type": "stream",
          "name": "stdout",
          "text": [
            "1.4145256551487377\n"
          ]
        }
      ]
    },
    {
      "cell_type": "code",
      "source": [
        "import math\n",
        "\n",
        "def bisection(f, a, b, tol):\n",
        "    if f(a) == 0:\n",
        "        return a\n",
        "    if f(b) == 0:\n",
        "        return b\n",
        "    if f(a) * f(b) > 0:\n",
        "        raise ValueError(\"Fungsi tidak berganti tanda di interval.\")\n",
        "    for _ in range(1000):\n",
        "        c = (a + b) / 2\n",
        "        if abs(f(c)) < 1e-10 or (b - a)/2 < tol:\n",
        "            return c\n",
        "        if f(a) * f(c) < 0:\n",
        "            b = c\n",
        "        else:\n",
        "            a = c\n",
        "    return (a + b)/2\n",
        "\n",
        "def newton_raphson(f, df, x0, tol):\n",
        "    x = x0\n",
        "    for _ in range(1000):\n",
        "        fx = f(x)\n",
        "        dfx = df(x)\n",
        "        if dfx == 0:\n",
        "            raise ValueError(\"Turunan nol.\")\n",
        "        x_new = x - fx/dfx\n",
        "        if abs(x_new - x) < tol:\n",
        "            return x_new\n",
        "        x = x_new\n",
        "    raise ValueError(\"Tidak konvergen.\")\n",
        "\n",
        "f1 = lambda x: x**3 + x - 1\n",
        "f2 = lambda x: x**3 - 3*x**2 + 2*x\n",
        "f3 = lambda x: math.sin(x) - x\n",
        "f4 = lambda x: x**3 - 3*x**2 + 2*x\n",
        "df4 = lambda x: 3*x**2 - 6*x + 2\n",
        "f5 = lambda x: math.exp(x) - 2*x\n",
        "df5 = lambda x: math.exp(x) - 2\n",
        "\n",
        "print(\"=== HASIL ===\")\n",
        "\n",
        "# Soal 1: Bisection (x³+x-1) [0,1]\n",
        "try:\n",
        "    print(f\"1. Bisection (x³+x-1): {bisection(f1, 0, 1, 0.001):.5f}\")\n",
        "except:\n",
        "    print(\"1. Error\")\n",
        "\n",
        "# Soal 2: Bisection (x³-3x²+2x) [1.1,2]\n",
        "try:\n",
        "    print(f\"2. Bisection (x³-3x²+2x): {bisection(f2, 1.1, 2, 0.01):.5f}\")\n",
        "except:\n",
        "    print(\"2. Error\")\n",
        "\n",
        "# Soal 3: Bisection (sinx -x) [0,1]\n",
        "try:\n",
        "    print(f\"3. Bisection (sinx -x): {bisection(f3, 0, 1, 0.001):.5f}\")\n",
        "except:\n",
        "    print(\"3. Error\")\n",
        "\n",
        "# Soal 4: Newton-Raphson (x³-3x²+2x) x₀=1.5\n",
        "try:\n",
        "    print(f\"4. Newton-Raphson (x³-3x²+2x): {newton_raphson(f4, df4, 1.5, 0.01):.5f}\")\n",
        "except:\n",
        "    print(\"4. Error\")\n",
        "\n",
        "# Soal 5: Newton-Raphson (eˣ-2x) x₀=1\n",
        "try:\n",
        "    print(f\"5. Newton-Raphson (eˣ-2x): {newton_raphson(f5, df5, 1, 0.001):.5f}\")\n",
        "except:\n",
        "    print(\"5. Error\")"
      ],
      "metadata": {
        "colab": {
          "base_uri": "https://localhost:8080/"
        },
        "id": "NolykON3XAJH",
        "outputId": "d1f58948-69a4-481c-94aa-e1d88b31fd20"
      },
      "execution_count": 17,
      "outputs": [
        {
          "output_type": "stream",
          "name": "stdout",
          "text": [
            "=== HASIL ===\n",
            "1. Bisection (x³+x-1): 0.68262\n",
            "2. Bisection (x³-3x²+2x): 2.00000\n",
            "3. Bisection (sinx -x): 0.00000\n",
            "4. Newton-Raphson (x³-3x²+2x): 0.00000\n",
            "5. Error\n"
          ]
        }
      ]
    }
  ]
}